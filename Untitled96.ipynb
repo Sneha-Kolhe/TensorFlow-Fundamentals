{
 "cells": [
  {
   "cell_type": "markdown",
   "id": "7cb1678d-ecc0-4959-8337-6b6baeb1f238",
   "metadata": {},
   "source": [
    "##  What are the different data structures used in Tensorflow?. Give some examplesc"
   ]
  },
  {
   "cell_type": "code",
   "execution_count": null,
   "id": "bfc95ac1-bbcb-4668-b73b-cc3a94149c8c",
   "metadata": {},
   "outputs": [],
   "source": [
    "tf.Tensor:\n",
    "\n",
    "tf.Tensor is the primary data structure in TensorFlow used to represent multi-dimensional arrays or tensors. It is the output of TensorFlow operations and represents the values flowing through the computational graph. Tensors can have different data types (e.g., float32, int32) and shapes (e.g., scalar, vector, matrix).\n",
    "\n",
    "import tensorflow as tf\n",
    "\n",
    "# Example tensors\n",
    "tensor1 = tf.constant([1, 2, 3])  # 1D tensor (vector)\n",
    "tensor2 = tf.constant([[1, 2], [3, 4]])  # 2D tensor (matrix)\n",
    "tf.Variable:\n",
    "\n",
    "tf.Variable is a mutable tensor-like object in TensorFlow that represents trainable parameters of a model. Unlike tf.Tensor, variables can be modified using operations like assign and assign_add. Variables are commonly used to store model parameters (weights and biases) that are updated during the training process.\n",
    "\n",
    "import tensorflow as tf\n",
    "\n",
    "# Example variable\n",
    "variable = tf.Variable([1.0, 2.0, 3.0])  # 1D tensor (vector)\n",
    "tf.constant:\n",
    "\n",
    "tf.constant is a data structure used to create constant tensors with fixed values. Unlike variables, constant tensors are immutable and cannot be modified after creation. Constants are commonly used to represent fixed data such as input features or labels.\n",
    "\n",
    "import tensorflow as tf\n",
    "\n",
    "# Example constant tensors\n",
    "constant1 = tf.constant([1, 2, 3])  # 1D tensor (vector)\n",
    "constant2 = tf.constant([[1, 2], [3, 4]])  # 2D tensor (matrix)\n",
    "tf.placeholder:\n",
    "\n",
    "tf.placeholder is a data structure used to feed input data into a TensorFlow computation graph. It acts as a placeholder for tensors that will be provided at runtime. Placeholders are commonly used in TensorFlow for training models with variable batch sizes or when using data streaming.\n",
    "\n",
    "import tensorflow as tf\n",
    "\n",
    "# Example placeholder\n",
    "placeholder = tf.placeholder(tf.float32, shape=(None, 3))  # 2D tensor with variable b"
   ]
  },
  {
   "cell_type": "markdown",
   "id": "499d254a-c0c2-4ca7-ade2-01de9b70c7a1",
   "metadata": {},
   "source": [
    "##  How does the TensorFlow constant differ from a TensorFlow variable? Explain with an examplec"
   ]
  },
  {
   "cell_type": "code",
   "execution_count": null,
   "id": "ea0b2c0b-15cb-4e3f-8979-026f170969dd",
   "metadata": {},
   "outputs": [],
   "source": []
  }
 ],
 "metadata": {
  "kernelspec": {
   "display_name": "Python 3 (ipykernel)",
   "language": "python",
   "name": "python3"
  },
  "language_info": {
   "codemirror_mode": {
    "name": "ipython",
    "version": 3
   },
   "file_extension": ".py",
   "mimetype": "text/x-python",
   "name": "python",
   "nbconvert_exporter": "python",
   "pygments_lexer": "ipython3",
   "version": "3.10.8"
  }
 },
 "nbformat": 4,
 "nbformat_minor": 5
}
